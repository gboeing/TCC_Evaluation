{
 "cells": [
  {
   "cell_type": "markdown",
   "metadata": {},
   "source": [
    "## Notes\n",
    "\n",
    "* Database access requires us to add your IP to the AWS security list, contact Eric Dasmalchi or Jason Karpman for access\n",
    "* Some of this notebook is unwieldly/redundant, Eric will keep streamlining it"
   ]
  },
  {
   "cell_type": "code",
   "execution_count": 1,
   "metadata": {},
   "outputs": [],
   "source": [
    "import pandas as pd\n",
    "import geopandas as gpd\n",
    "import numpy as np\n",
    "from arcgis2geojson import arcgis2geojson\n",
    "import folium\n",
    "import requests\n",
    "import mysql\n",
    "import mysql.connector\n",
    "from mysql.connector import errorcode\n",
    "\n",
    "import fastparquet\n",
    "import snappy\n",
    "\n",
    "import os"
   ]
  },
  {
   "cell_type": "code",
   "execution_count": 3,
   "metadata": {},
   "outputs": [],
   "source": [
    "#Set up database conenction. \n",
    "#Must add IP to security list on AWS console first.\n",
    "config = {\n",
    "  'user': 'luskincenter',\n",
    "  'password': os.environ['TCC_SQL_PWD'],\n",
    "  'host': 'housing-site-db.cxxl1so9sozw.us-west-1.rds.amazonaws.com',\n",
    "  'database': 'housing_site_db',\n",
    "  'raise_on_warnings': True\n",
    "}\n",
    "try:\n",
    "    cnx = mysql.connector.connect(**config)\n",
    "\n",
    "except mysql.connector.Error as err:\n",
    "    if err.errno == errorcode.ER_ACCESS_DENIED_ERROR:\n",
    "        print(\"Something is wrong with your user name or password\")\n",
    "    elif err.errno == errorcode.ER_BAD_DB_ERROR:\n",
    "        print(\"Database does not exist\")\n",
    "    else:\n",
    "        print(err)"
   ]
  },
  {
   "cell_type": "code",
   "execution_count": 4,
   "metadata": {},
   "outputs": [],
   "source": [
    "def get_2020_data(city):\n",
    "    assert city in ['la', 'ontario', 'fresno']\n",
    "    print(f'Getting craigslist data for {city}... ', end = '')\n",
    "    cols = 'pid, dt, price, beds, sqft, lat, lng, region, domain'\n",
    "    regions = {'la':['Watts1', 'Watts2'], 'ontario':['Ontario'], 'fresno':['Fresno']}\n",
    "    \n",
    "    for region in regions[city]:\n",
    "        df = pd.DataFrame()\n",
    "        query = f\"SELECT {cols} FROM housing_site_db.craigslist_table WHERE region = '{region}'\\\n",
    "    AND STR_TO_DATE(dt, '%Y-%m-%d %H:%i') BETWEEN '2020-03-01' AND '2020-06-16';\"\n",
    "        query_df = pd.read_sql(query, con=cnx)\n",
    "        df = df.append(query_df)\n",
    "    \n",
    "    df = df.reset_index()\n",
    "    print('Done!')\n",
    "    return df\n",
    "\n",
    "def rentdf_to_gdf(rent_df):\n",
    "    rent_df = rent_df.replace('', np.nan).dropna(subset=['lat', 'lng'])\n",
    "\n",
    "    rent_gdf = gpd.GeoDataFrame(\n",
    "        rent_df, geometry=gpd.points_from_xy(\n",
    "        rent_df['lng'].astype('float64'), rent_df['lat'].astype('float64')))\n",
    "    return rent_gdf\n",
    "\n",
    "#reformat 2020 data to generally match 2014 data\n",
    "def match_2014_data(gdf_2020rent):\n",
    "    gdf_2020rent['date'] = gdf_2020rent['dt'].apply(lambda x: x[:11])\n",
    "    gdf_2020rent = gdf_2020rent.rename(columns={'price':'rent',\n",
    "                                                'beds':'bedrooms',\n",
    "                                               'lat':'latitude',\n",
    "                                               'lng':'longitude'})\n",
    "    gdf_2020rent = gdf_2020rent.drop_duplicates(subset=['rent', 'sqft', 'date'])\n",
    "    gdf_2020rent = gdf_2020rent.dropna(subset=['rent', 'sqft'])\n",
    "    gdf_2020rent = gdf_2020rent.replace('', np.nan).dropna(subset=[\n",
    "                            'latitude', 'longitude', 'rent', 'sqft'])\n",
    "    gdf_2020rent['rent'] = gdf_2020rent.loc[:,'rent'].astype(int)\n",
    "    gdf_2020rent['sqft'] = gdf_2020rent.loc[:,'sqft'].astype(int)\n",
    "    return gdf_2020rent"
   ]
  },
  {
   "cell_type": "code",
   "execution_count": 5,
   "metadata": {},
   "outputs": [],
   "source": [
    "#FIPS codes for census tracts included in our control and tcc groups for each region\n",
    "la_tracts = {'control': ['06037239601', '06037219901', '06037232120', '06037221500',\n",
    "                          '06037237720', '06037238310', '06037238320', '06037237710',\n",
    "                          '06037241120', '06037231100', '06037231210', '06037231300',\n",
    "                           '06037231600', '06037231710', '06037240500', '06037237500',\n",
    "                           '06037232500', '06037232700', '06037240600', '06037237101',\n",
    "                           '06037237202', '06037237401', '06037239202', '06037239501',\n",
    "                           '06037239602', '06037239802', '06037239801', '06037228500',\n",
    "                            '06037231720', '06037237102', '06037241400', '06037240010',\n",
    "                      '06037241202', '06037240401', '06037541604', '06037535102',\n",
    "                      '06037540901', '06037600304'],\n",
    "              'tcc': ['06037241001', '06037240900', '06037242700', '06037242100',\n",
    "                     '06037242000', '06037240800', '06037242300', '06037242200',\n",
    "                     '06037243000', '06037242600', '06037243100']}\n",
    "\n",
    "fresno_tracts = {'control': ['06019001202', '06019001304', '06019001407', '06019002800',\n",
    "                          '06019003202', '06019003807', '06019004704', '06019004802',\n",
    "                          '06019005100', '06019005403'],\n",
    "              'tcc': ['06019000700', '06019001100', '06019001000', '06019000901',\n",
    "                     '06019000200', '06019000300', '06019000400', '06019000600',\n",
    "                     '06019000902', '06019000100']}\n",
    "\n",
    "ontario_tracts = {'control': ['06071000603', '06071003803', '06071000207', '06071002804',\n",
    "                          '06071002602', '06071002902', '06071003200', '06071003102',\n",
    "                          '06071003301', '06071003101', '06071003509', '06071004700',\n",
    "                           '06071004604', '06071006700', '06071007000', '06071000201',\n",
    "                           '06071003401', '06071000904', '06071001104', '06071001001',\n",
    "                           '06071001305', '06071003607', '06071006604', '06071002204',\n",
    "                           '06071006302', '06071000303', '06071002402', '06071002401',\n",
    "                            '06071002501', '06071003302'],\n",
    "              'tcc': ['06071001600', '06071001702', '06071001400', '06071001813',\n",
    "                     '06071001707', '06071001812', '06071001504', '06071001706',\n",
    "                     '06071001501', '06071001503']}\n",
    "\n",
    "#get geography for all control and tcc tracts in a region\n",
    "def ctrl_tcc_tract_gdfs(city):\n",
    "    \n",
    "    def get_tracts_geog(geoid_list):\n",
    "        def get_tract_geog(geoid):\n",
    "            api_url = 'https://tigerweb.geo.census.gov/arcgis/rest/services/TIGERweb/tigerWMS_ACS2016/MapServer/8/query?f=json&outsr=4326&where=GEOID={}'\n",
    "            data = requests.get(api_url.format(geoid)).json()\n",
    "            data = arcgis2geojson(data)\n",
    "            #print(data)\n",
    "            gdf = gpd.GeoDataFrame.from_features(data['features'])\n",
    "            gdf['geoid'] = geoid\n",
    "\n",
    "            return gdf.set_index('geoid')\n",
    "        \n",
    "        for geoid in geoid_list:\n",
    "            try:\n",
    "                gdf = gdf.append(get_tract_geog(geoid))\n",
    "            except NameError:\n",
    "                gdf = get_tract_geog(geoid)\n",
    "        return gdf\n",
    "    print(f'Getting tract shape data for {city}... ', end = '')\n",
    "    assert city in ['la', 'ontario', 'fresno']\n",
    "    if city == 'la':\n",
    "        ctrl_tracts = get_tracts_geog(la_tracts['control'])\n",
    "        tcc_tracts = get_tracts_geog(la_tracts['tcc'])\n",
    "    elif city == 'ontario':\n",
    "        ctrl_tracts = get_tracts_geog(ontario_tracts['control'])\n",
    "        tcc_tracts = get_tracts_geog(ontario_tracts['tcc'])\n",
    "    elif city == 'fresno':\n",
    "        ctrl_tracts = get_tracts_geog(fresno_tracts['control'])\n",
    "        tcc_tracts = get_tracts_geog(fresno_tracts['tcc'])\n",
    "    print('Done!')\n",
    "    return {'ctrl_tracts':ctrl_tracts, 'tcc_tracts':tcc_tracts}"
   ]
  },
  {
   "cell_type": "code",
   "execution_count": 6,
   "metadata": {},
   "outputs": [],
   "source": [
    "def read_2014_data(city):\n",
    "    assert city in ['la', 'ontario', 'fresno']\n",
    "    subset = {'la':'losangeles', 'ontario':'inlandempire', 'fresno':'fresno'}\n",
    "    rent_2014 = pd.read_csv(f'Data/2014 Craigslist data/subset_{subset[city]}.csv')\n",
    "    rent_2014 = rent_2014.drop_duplicates(subset=['rent', 'sqft', 'date'])\n",
    "    rent_2014 = gpd.GeoDataFrame(\n",
    "        rent_2014, geometry=gpd.points_from_xy(\n",
    "            rent_2014['longitude'].astype('float64'), rent_2014['latitude'].astype('float64')))\n",
    "    rent_2014 = rent_2014.dropna(subset=['rent'])\n",
    "    return rent_2014"
   ]
  },
  {
   "cell_type": "code",
   "execution_count": 38,
   "metadata": {},
   "outputs": [],
   "source": [
    "#clip listings to either tcc or control tracts\n",
    "#also include only apartments/rooms from 2020 data\n",
    "def clip_filter_apt(apt_gdf, tcc_ctrl_gdf, remove_outliers=False):\n",
    "    apt_gdf = gpd.clip(apt_gdf, tcc_ctrl_gdf)\n",
    "    if 'domain' in apt_gdf.columns:\n",
    "        #new column to extract type of listing from domain\n",
    "        apt_gdf['type_code'] = apt_gdf['domain'].apply(lambda x: x.split('/')[-1])\n",
    "        #filter to only apartment and room listings (exclude for-sale properties)\n",
    "        apt_gdf = apt_gdf.loc[apt_gdf['type_code'].isin(['apa', 'roo'])]\n",
    "    apt_gdf.loc['rent'] = apt_gdf['rent'].astype(int)\n",
    "    apt_gdf['rent/sqft'] = apt_gdf['rent'] / apt_gdf['sqft']\n",
    "    return apt_gdf"
   ]
  },
  {
   "cell_type": "code",
   "execution_count": 8,
   "metadata": {},
   "outputs": [],
   "source": [
    "import copy\n",
    "def remove_outliers(results_dict, quantiles):\n",
    "    filtered_dict = copy.deepcopy(results_dict)\n",
    "    for key, apt_gdf in filtered_dict.items():\n",
    "        filtered_dict[key] = apt_gdf.loc[apt_gdf['rent/sqft'] > apt_gdf['rent/sqft'].quantile(quantiles[0])]\n",
    "        filtered_dict[key] = apt_gdf.loc[apt_gdf['rent/sqft'] < apt_gdf['rent/sqft'].quantile(quantiles[1])]\n",
    "    return filtered_dict\n",
    "\n",
    "def calculate_means(results14, results20):\n",
    "    means = {}\n",
    "    means['ctrl_14'] = results14['control']['rent/sqft'].mean()\n",
    "    means['tcc_14'] = results14['tcc']['rent/sqft'].mean()\n",
    "    means['ctrl_20'] = results20['control']['rent/sqft'].mean()\n",
    "    means['tcc_20'] = results20['tcc']['rent/sqft'].mean()\n",
    "    return means\n",
    "\n",
    "def mean_rent_df(results14, results20, quantiles, city):\n",
    "    filtered_20 = remove_outliers(results20, quantiles)\n",
    "    filtered_14 = remove_outliers(results14, quantiles)\n",
    "    return pd.DataFrame(calculate_means(filtered_14, filtered_20), index=[\n",
    "        f'{city}, {quantiles[0]*100}–{quantiles[1]*100} percentile'])"
   ]
  },
  {
   "cell_type": "code",
   "execution_count": 9,
   "metadata": {},
   "outputs": [],
   "source": [
    "def calculate_mean_rents(city):\n",
    "    assert city in ['la', 'ontario', 'fresno']\n",
    "    \n",
    "    df_2020 = get_2020_data(city)\n",
    "    gdf_2020 = rentdf_to_gdf(df_2020)\n",
    "    gdf_2020 = match_2014_data(gdf_2020)\n",
    "    \n",
    "    gdf_2014 = read_2014_data(city)\n",
    "    \n",
    "    tracts = ctrl_tcc_tract_gdfs(city)\n",
    "    \n",
    "    results14 = {'control':clip_filter_apt(gdf_2014, tracts['ctrl_tracts']),\n",
    "                 'tcc':clip_filter_apt(gdf_2014, tracts['tcc_tracts'])}\n",
    "    results20 = {'control':clip_filter_apt(gdf_2020, tracts['ctrl_tracts']),\n",
    "                 'tcc':clip_filter_apt(gdf_2020, tracts['tcc_tracts'])}\n",
    "    \n",
    "    def label_merge_gdf(results_dict, city):\n",
    "        ctrl_gdf = results_dict['control']\n",
    "        ctrl_gdf['tcc'] = 0\n",
    "        tcc_gdf = results_dict['tcc']\n",
    "        tcc_gdf['tcc'] = 1\n",
    "        merged_gdf = ctrl_gdf.append(tcc_gdf)\n",
    "        merged_gdf['region'] = city\n",
    "        return merged_gdf\n",
    "    \n",
    "    results14gdf = label_merge_gdf(results14, city)\n",
    "    results20gdf = label_merge_gdf(results20, city)\n",
    "    export_gdf = results14gdf.append(results20gdf)\n",
    "    \n",
    "    #currently returns a list with a df of the mean rents and a gdf of the filtered raw data\n",
    "    return [mean_rent_df(results14, results20, quantiles = (.002, .998), city = city), export_gdf]"
   ]
  },
  {
   "cell_type": "code",
   "execution_count": 10,
   "metadata": {},
   "outputs": [
    {
     "name": "stdout",
     "output_type": "stream",
     "text": [
      "Getting craigslist data for ontario... Done!\n",
      "Getting tract shape data for ontario... Done!\n"
     ]
    }
   ],
   "source": [
    "ont_both = calculate_mean_rents('ontario')"
   ]
  },
  {
   "cell_type": "code",
   "execution_count": 11,
   "metadata": {},
   "outputs": [
    {
     "name": "stdout",
     "output_type": "stream",
     "text": [
      "Getting craigslist data for la... Done!\n",
      "Getting tract shape data for la... Done!\n"
     ]
    }
   ],
   "source": [
    "la_both = calculate_mean_rents('la')"
   ]
  },
  {
   "cell_type": "code",
   "execution_count": 12,
   "metadata": {},
   "outputs": [
    {
     "name": "stdout",
     "output_type": "stream",
     "text": [
      "Getting craigslist data for fresno... Done!\n",
      "Getting tract shape data for fresno... Done!\n"
     ]
    }
   ],
   "source": [
    "fres_both = calculate_mean_rents('fresno')"
   ]
  },
  {
   "cell_type": "code",
   "execution_count": 13,
   "metadata": {},
   "outputs": [],
   "source": [
    "ont_both[1].to_file('craigslist_data/processed/ontario_combined.geojson', driver='GeoJSON')\n",
    "la_both[1].to_file('craigslist_data/processed/la_combined.geojson', driver='GeoJSON')\n",
    "fres_both[1].to_file('craigslist_data/processed/fresno_combined.geojson', driver='GeoJSON')"
   ]
  },
  {
   "cell_type": "code",
   "execution_count": 26,
   "metadata": {},
   "outputs": [
    {
     "data": {
      "text/html": [
       "<div>\n",
       "<style scoped>\n",
       "    .dataframe tbody tr th:only-of-type {\n",
       "        vertical-align: middle;\n",
       "    }\n",
       "\n",
       "    .dataframe tbody tr th {\n",
       "        vertical-align: top;\n",
       "    }\n",
       "\n",
       "    .dataframe thead th {\n",
       "        text-align: right;\n",
       "    }\n",
       "</style>\n",
       "<table border=\"1\" class=\"dataframe\">\n",
       "  <thead>\n",
       "    <tr style=\"text-align: right;\">\n",
       "      <th></th>\n",
       "      <th>ctrl_14</th>\n",
       "      <th>tcc_14</th>\n",
       "      <th>ctrl_20</th>\n",
       "      <th>tcc_20</th>\n",
       "    </tr>\n",
       "  </thead>\n",
       "  <tbody>\n",
       "    <tr>\n",
       "      <th>ontario, 0.2–99.8 percentile</th>\n",
       "      <td>1.218417</td>\n",
       "      <td>1.236811</td>\n",
       "      <td>2.184625</td>\n",
       "      <td>1.625138</td>\n",
       "    </tr>\n",
       "  </tbody>\n",
       "</table>\n",
       "</div>"
      ],
      "text/plain": [
       "                               ctrl_14    tcc_14   ctrl_20    tcc_20\n",
       "ontario, 0.2–99.8 percentile  1.218417  1.236811  2.184625  1.625138"
      ]
     },
     "execution_count": 26,
     "metadata": {},
     "output_type": "execute_result"
    }
   ],
   "source": [
    "ont_both[0]"
   ]
  },
  {
   "cell_type": "code",
   "execution_count": 31,
   "metadata": {},
   "outputs": [],
   "source": [
    "####Messy, recheck once you go over...\n",
    "def transpose_for_did(mean_rent_df):\n",
    "    region = mean_rent_df.index[0].split(',')[0]\n",
    "    did_df = mean_rent_df.transpose().reset_index()\n",
    "    did_df = did_df.rename(\n",
    "        columns={'index':'grp+year', did_df.columns[1]:'mean_rent_sqft'})\n",
    "    did_df['tcc'] = did_df['grp+year'].apply(lambda x: 1 if x.split('_')[0] == 'tcc' else 0)\n",
    "    did_df['year'] = did_df['grp+year'].apply(lambda x: x.split('_')[1])\n",
    "    did_df['region'] = region\n",
    "    did_df = did_df[['region', 'year', 'mean_rent_sqft', 'tcc']]\n",
    "    did_df = did_df.astype({'year':'int32', 'mean_rent_sqft':'float'})\n",
    "    return did_df"
   ]
  },
  {
   "cell_type": "code",
   "execution_count": 36,
   "metadata": {},
   "outputs": [],
   "source": [
    "for_did_all = (transpose_for_did(ont_both[0]).\n",
    "     append(transpose_for_did(la_both[0])).\n",
    "    append(transpose_for_did(fres_both[0]))).reset_index(drop=True)"
   ]
  },
  {
   "cell_type": "code",
   "execution_count": 37,
   "metadata": {},
   "outputs": [],
   "source": [
    "for_did_all.to_csv('craigslist_data/processed/means_for_DiD.csv')"
   ]
  }
 ],
 "metadata": {
  "kernelspec": {
   "display_name": "Python 3",
   "language": "python",
   "name": "python3"
  },
  "language_info": {
   "codemirror_mode": {
    "name": "ipython",
    "version": 3
   },
   "file_extension": ".py",
   "mimetype": "text/x-python",
   "name": "python",
   "nbconvert_exporter": "python",
   "pygments_lexer": "ipython3",
   "version": "3.8.2"
  }
 },
 "nbformat": 4,
 "nbformat_minor": 4
}
